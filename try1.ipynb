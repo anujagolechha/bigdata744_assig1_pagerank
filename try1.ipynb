{
 "cells": [
  {
   "cell_type": "code",
   "execution_count": 70,
   "metadata": {},
   "outputs": [],
   "source": [
    "from pyspark.sql import SparkSession\n",
    "from operator import add"
   ]
  },
  {
   "cell_type": "code",
   "execution_count": 71,
   "metadata": {},
   "outputs": [],
   "source": [
    "spark = SparkSession.builder.appName(\"Assig1_PageRank\").getOrCreate()"
   ]
  },
  {
   "cell_type": "code",
   "execution_count": 72,
   "metadata": {},
   "outputs": [],
   "source": [
    "fname = \"./web-BerkStan.txt\"\n",
    "data = spark.read.text(fname).rdd.map(lambda r: r[0])"
   ]
  },
  {
   "cell_type": "code",
   "execution_count": 73,
   "metadata": {},
   "outputs": [],
   "source": [
    "def extractIDs(x):\n",
    "    temp = x.split(\"\\t\")\n",
    "    return temp\n",
    "\n",
    "def getValidIDs(x):\n",
    "    if len(x) == 2:\n",
    "        return x[0].isdigit() and x[1].isdigit()\n",
    "    return False\n",
    "\n",
    "def calc(page2list, rank):\n",
    "    n = len(page2list)\n",
    "    for page2 in page2list:\n",
    "        yield (page2, rank / n)"
   ]
  },
  {
   "cell_type": "code",
   "execution_count": 74,
   "metadata": {},
   "outputs": [
    {
     "data": {
      "text/plain": [
       "[(u'287144', 0.1872392009999748),\n",
       " (u'282424', 0.47561981964639233),\n",
       " (u'496975', 2.9531547274362135),\n",
       " (u'623634', 0.16634540504803774),\n",
       " (u'186829', 0.2579919395127193),\n",
       " (u'311016', 0.2346604361923148),\n",
       " (u'432407', 0.6082312015910813),\n",
       " (u'670977', 0.32450802940722284),\n",
       " (u'103549', 0.9321981726804518),\n",
       " (u'576354', 0.6389431562485941)]"
      ]
     },
     "execution_count": 74,
     "metadata": {},
     "output_type": "execute_result"
    }
   ],
   "source": [
    "linkinfo = data.map(lambda x : extractIDs(x)).filter(lambda x : getValidIDs(x)).groupByKey()#.cache()\n",
    "ranks = linkinfo.map(lambda url_neighbors : (url_neighbors[0], 1.0))\n",
    "\n",
    "n_iterations = 10\n",
    "for _ in range(n_iterations):\n",
    "    contributions = linkinfo.join(ranks).flatMap(\n",
    "          lambda page1_page2list_rank1 : calc(page1_page2list_rank1[1][0], page1_page2list_rank1[1][1]))\n",
    "    ranks = contributions.reduceByKey(add).mapValues(lambda contrib : 0.15 + (0.85 * contrib))\n",
    "    \n",
    "ranks.take(10)\n",
    "        \n"
   ]
  }
 ],
 "metadata": {
  "kernelspec": {
   "display_name": "Python 2",
   "language": "python",
   "name": "python2"
  },
  "language_info": {
   "codemirror_mode": {
    "name": "ipython",
    "version": 2
   },
   "file_extension": ".py",
   "mimetype": "text/x-python",
   "name": "python",
   "nbconvert_exporter": "python",
   "pygments_lexer": "ipython2",
   "version": "2.7.10"
  }
 },
 "nbformat": 4,
 "nbformat_minor": 2
}
